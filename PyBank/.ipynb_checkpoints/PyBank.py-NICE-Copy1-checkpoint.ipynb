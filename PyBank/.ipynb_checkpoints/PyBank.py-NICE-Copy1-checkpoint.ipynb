{
 "cells": [
  {
   "cell_type": "code",
   "execution_count": null,
   "metadata": {},
   "outputs": [],
   "source": [
    "import os\n",
    "import csv\n",
    "\n",
    "csvfile=('Resources/budget_data.csv')\n",
    "budget_data=csvfile\n",
    "    "
   ]
  },
  {
   "cell_type": "code",
   "execution_count": null,
   "metadata": {},
   "outputs": [],
   "source": [
    "# Set up Variables\n",
    "\n",
    "total_months=0\n",
    "net_total=0\n",
    "\n",
    "month_count=[]\n",
    "monthly_change=[]\n",
    "\n",
    "\n",
    "greatest_increase_month=0\n",
    "greatest_increase=0\n",
    "greatest_decrease_month=0\n",
    "greatest_decrease=0"
   ]
  },
  {
   "cell_type": "code",
   "execution_count": null,
   "metadata": {},
   "outputs": [],
   "source": [
    "with open(budget_data, newline = '') as csvfile:\n",
    "    csvreader = csv.reader(csvfile, delimiter = ',')\n",
    "    \n",
    "    next(csvreader, None)\n",
    "    row = next(csvreader)\n",
    "    \n",
    "      data = []\n",
    "    for row in csvreader:\n",
    "        data.append(row)\n",
    "        pr"
   ]
  },
  {
   "cell_type": "code",
   "execution_count": null,
   "metadata": {},
   "outputs": [],
   "source": [
    "# calculting total number of months and total revenue\n",
    "for row in data:\n",
    "\n",
    "    previous_profit=int(row[1])\n",
    "    total_months= total_months+1\n",
    "    net_total= net_total+int(row[1])\n",
    "    greatest_increase=int(row[1])\n",
    "    greatest_inc_month=row[0]\n",
    "\n",
    "print(total_months)\n",
    "net_total"
   ]
  },
  {
   "cell_type": "code",
   "execution_count": null,
   "metadata": {},
   "outputs": [],
   "source": [
    "\n",
    "\n",
    "for row in data:\n",
    "        data.append(row)\n",
    "        \n",
    "        total_months=total_months+1\n",
    "        net_total=net_total+1\n",
    "    \n",
    "    \n",
    "print(total_months)"
   ]
  },
  {
   "cell_type": "code",
   "execution_count": null,
   "metadata": {},
   "outputs": [],
   "source": [
    "# calculate change from this month to previous month\n",
    "change=int(row[1])-previous_profit\n",
    "monthly_change.append(change)\n",
    "\n",
    "previous_profit=int(row[1])\n",
    "month_count.append(row[0])"
   ]
  },
  {
   "cell_type": "code",
   "execution_count": null,
   "metadata": {},
   "outputs": [],
   "source": [
    "# Caluclating greatest increase\n",
    "\n",
    "if int(row[1])> greatest_increase:\n",
    "    greatest_increase=int(row[1])\n",
    "    greatest_increase_month=row([0])\n",
    "    \n",
    "# Calculating greatest decrease\n",
    "\n",
    "if int(row[1])< greatest_decrease:\n",
    "    greatest_decrease=int(row[1])\n",
    "    greatest_decrease_month=row([0])"
   ]
  },
  {
   "cell_type": "code",
   "execution_count": null,
   "metadata": {},
   "outputs": [],
   "source": [
    "# Calculating the average and date\n",
    "\n",
    "average_change=sum(change)/len(change)\n",
    "\n",
    "high=max(change)\n",
    "low=min(change)\n",
    "\n",
    "\n"
   ]
  },
  {
   "cell_type": "code",
   "execution_count": null,
   "metadata": {},
   "outputs": [],
   "source": [
    "# print all values\n",
    "print(\"Financial Analysis\")\n",
    "print(\"-----------------------\")\n",
    "print(f\"Total Months: {total_months}\")\n",
    "print(f\"Total Amount: ${net_total}\")\n",
    "# print(f\"Average Change: ${average_change}\")\n",
    "print(f\"Greatest Increase in Profits: {greatest_increase_month},${high}\")\n",
    "print(f\"Greatest Deacrese in Profits: {greatest_decrease_month},${low}\")\n",
    "\n",
    "\n",
    "\n",
    "#  (${highest})\")\n",
    "#  (${lowest})\")"
   ]
  },
  {
   "cell_type": "code",
   "execution_count": null,
   "metadata": {},
   "outputs": [],
   "source": []
  },
  {
   "cell_type": "code",
   "execution_count": null,
   "metadata": {},
   "outputs": [],
   "source": [
    " PyBank = open(\"output.txt\",\"w+\")"
   ]
  },
  {
   "cell_type": "code",
   "execution_count": null,
   "metadata": {},
   "outputs": [],
   "source": [
    " PyBank = open(\"output.txt\",\"w+\")\n",
    "    PyBank.write(\"Financial Analysis\") \n",
    "    PyBank.write('\\n' +\"Total Months\" + str(total_months)) \n",
    "    PyBank.write('\\n' +\"Total Amount\" + str(total_revenue)) \n",
    "    PyBank.write('\\n' +\"Average\" + str(average_change)) \n",
    "    PyBank.write('\\n' +greatest_inc_month) \n",
    "    PyBank.write('\\n' +str(high))\n",
    "    PyBank.write('\\n' +greatest_dec_month) \n",
    "    PyBank.write('\\n' +str(low)) "
   ]
  },
  {
   "cell_type": "code",
   "execution_count": null,
   "metadata": {},
   "outputs": [],
   "source": []
  },
  {
   "cell_type": "code",
   "execution_count": null,
   "metadata": {},
   "outputs": [],
   "source": [
    "with open(output_file, 'w',) as ________: csvfile or txtfile"
   ]
  },
  {
   "cell_type": "code",
   "execution_count": null,
   "metadata": {},
   "outputs": [],
   "source": [
    "   txtfile.write(f\"Financial Analysis\\n\")\n",
    "    txtfile.write(f\"---------------------------\\n\")\n",
    "    txtfile.write(f\"Total Months: {total_months}\\n\")\n",
    "    txtfile.write(f\"Total: ${net_amount}\\n\")\n",
    "    txtfile.write(f\"Average Change: ${average_change}\\n\")\n",
    "    txtfile.write(f\"Greatest Increase in Profits:, {greatest_increase_month}, (${highest})\\n\")\n",
    "    txtfile.write(f\"Greatest Decrease in Profits:, {greatest_decrease_month}, (${lowest})\\n\")"
   ]
  },
  {
   "cell_type": "code",
   "execution_count": null,
   "metadata": {},
   "outputs": [],
   "source": []
  },
  {
   "cell_type": "code",
   "execution_count": null,
   "metadata": {},
   "outputs": [],
   "source": [
    "output_file = os.path.join('.', 'PyBank', 'Resources', 'budget_data_revised.text')"
   ]
  },
  {
   "cell_type": "code",
   "execution_count": null,
   "metadata": {},
   "outputs": [],
   "source": []
  }
 ],
 "metadata": {
  "kernelspec": {
   "display_name": "Python 3",
   "language": "python",
   "name": "python3"
  },
  "language_info": {
   "codemirror_mode": {
    "name": "ipython",
    "version": 3
   },
   "file_extension": ".py",
   "mimetype": "text/x-python",
   "name": "python",
   "nbconvert_exporter": "python",
   "pygments_lexer": "ipython3",
   "version": "3.8.5"
  }
 },
 "nbformat": 4,
 "nbformat_minor": 4
}
