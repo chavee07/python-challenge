{
 "cells": [
  {
   "cell_type": "code",
   "execution_count": 1,
   "metadata": {},
   "outputs": [],
   "source": [
    "import os\n",
    "import csv\n",
    "\n",
    "csvfile=('Resources/budget_data.csv')\n",
    "budget_data=csvfile\n",
    "    "
   ]
  },
  {
   "cell_type": "code",
   "execution_count": 2,
   "metadata": {},
   "outputs": [],
   "source": [
    "# Set up Variables\n",
    "\n",
    "total_months=0\n",
    "net_total=0\n",
    "\n",
    "month_count=[]\n",
    "monthly_change=[]\n",
    "\n",
    "\n",
    "greatest_increase_month=0\n",
    "greatest_increase=0\n",
    "greatest_decrease_month=0\n",
    "greatest_decrease=0"
   ]
  },
  {
   "cell_type": "code",
   "execution_count": 3,
   "metadata": {},
   "outputs": [],
   "source": [
    "# with open(csvpath, newline='') as csvfile:"
   ]
  },
  {
   "cell_type": "code",
   "execution_count": 4,
   "metadata": {},
   "outputs": [],
   "source": [
    "with open(budget_data, newline = '') as csvfile:\n",
    "    csvreader = csv.reader(csvfile, delimiter = ',')\n",
    "    \n",
    "    next(csvreader, None)\n",
    "    row = next(csvreader)\n",
    "    data = []\n",
    "    for row in csvreader:\n",
    "        data.append(row)\n"
   ]
  },
  {
   "cell_type": "code",
   "execution_count": 5,
   "metadata": {},
   "outputs": [
    {
     "data": {
      "text/plain": [
       "[['Feb-2010', '984655'],\n",
       " ['Mar-2010', '322013'],\n",
       " ['Apr-2010', '-69417'],\n",
       " ['May-2010', '310503'],\n",
       " ['Jun-2010', '522857'],\n",
       " ['Jul-2010', '1033096'],\n",
       " ['Aug-2010', '604885'],\n",
       " ['Sep-2010', '-216386'],\n",
       " ['Oct-2010', '477532'],\n",
       " ['Nov-2010', '893810'],\n",
       " ['Dec-2010', '-80353'],\n",
       " ['Jan-2011', '779806'],\n",
       " ['Feb-2011', '-335203'],\n",
       " ['Mar-2011', '697845'],\n",
       " ['Apr-2011', '793163'],\n",
       " ['May-2011', '485070'],\n",
       " ['Jun-2011', '584122'],\n",
       " ['Jul-2011', '62729'],\n",
       " ['Aug-2011', '668179'],\n",
       " ['Sep-2011', '899906'],\n",
       " ['Oct-2011', '834719'],\n",
       " ['Nov-2011', '132003'],\n",
       " ['Dec-2011', '309978'],\n",
       " ['Jan-2012', '-755566'],\n",
       " ['Feb-2012', '1170593'],\n",
       " ['Mar-2012', '252788'],\n",
       " ['Apr-2012', '1151518'],\n",
       " ['May-2012', '817256'],\n",
       " ['Jun-2012', '570757'],\n",
       " ['Jul-2012', '506702'],\n",
       " ['Aug-2012', '-1022534'],\n",
       " ['Sep-2012', '475062'],\n",
       " ['Oct-2012', '779976'],\n",
       " ['Nov-2012', '144175'],\n",
       " ['Dec-2012', '542494'],\n",
       " ['Jan-2013', '359333'],\n",
       " ['Feb-2013', '321469'],\n",
       " ['Mar-2013', '67780'],\n",
       " ['Apr-2013', '471435'],\n",
       " ['May-2013', '565603'],\n",
       " ['Jun-2013', '872480'],\n",
       " ['Jul-2013', '789480'],\n",
       " ['Aug-2013', '999942'],\n",
       " ['Sep-2013', '-1196225'],\n",
       " ['Oct-2013', '268997'],\n",
       " ['Nov-2013', '-687986'],\n",
       " ['Dec-2013', '1150461'],\n",
       " ['Jan-2014', '682458'],\n",
       " ['Feb-2014', '617856'],\n",
       " ['Mar-2014', '824098'],\n",
       " ['Apr-2014', '581943'],\n",
       " ['May-2014', '132864'],\n",
       " ['Jun-2014', '448062'],\n",
       " ['Jul-2014', '689161'],\n",
       " ['Aug-2014', '800701'],\n",
       " ['Sep-2014', '1166643'],\n",
       " ['Oct-2014', '947333'],\n",
       " ['Nov-2014', '578668'],\n",
       " ['Dec-2014', '988505'],\n",
       " ['Jan-2015', '1139715'],\n",
       " ['Feb-2015', '1029471'],\n",
       " ['Mar-2015', '687533'],\n",
       " ['Apr-2015', '-524626'],\n",
       " ['May-2015', '158620'],\n",
       " ['Jun-2015', '87795'],\n",
       " ['Jul-2015', '423389'],\n",
       " ['Aug-2015', '840723'],\n",
       " ['Sep-2015', '568529'],\n",
       " ['Oct-2015', '332067'],\n",
       " ['Nov-2015', '989499'],\n",
       " ['Dec-2015', '778237'],\n",
       " ['Jan-2016', '650000'],\n",
       " ['Feb-2016', '-1100387'],\n",
       " ['Mar-2016', '-174946'],\n",
       " ['Apr-2016', '757143'],\n",
       " ['May-2016', '445709'],\n",
       " ['Jun-2016', '712961'],\n",
       " ['Jul-2016', '-1163797'],\n",
       " ['Aug-2016', '569899'],\n",
       " ['Sep-2016', '768450'],\n",
       " ['Oct-2016', '102685'],\n",
       " ['Nov-2016', '795914'],\n",
       " ['Dec-2016', '60988'],\n",
       " ['Jan-2017', '138230'],\n",
       " ['Feb-2017', '671099']]"
      ]
     },
     "execution_count": 5,
     "metadata": {},
     "output_type": "execute_result"
    }
   ],
   "source": [
    "data"
   ]
  },
  {
   "cell_type": "code",
   "execution_count": 6,
   "metadata": {},
   "outputs": [
    {
     "name": "stdout",
     "output_type": "stream",
     "text": [
      "85\n"
     ]
    },
    {
     "data": {
      "text/plain": [
       "37514694"
      ]
     },
     "execution_count": 6,
     "metadata": {},
     "output_type": "execute_result"
    }
   ],
   "source": [
    "# calculting total number of months and total revenue\n",
    "for row in data:\n",
    "\n",
    "    previous_profit=int(row[1])\n",
    "    total_months= total_months+1\n",
    "    net_total= net_total+int(row[1])\n",
    "    greatest_increase=int(row[1])\n",
    "    greatest_inc_month=row[0]\n",
    "\n",
    "print(total_months)\n",
    "net_total"
   ]
  },
  {
   "cell_type": "code",
   "execution_count": 124,
   "metadata": {},
   "outputs": [
    {
     "ename": "ValueError",
     "evalue": "I/O operation on closed file.",
     "output_type": "error",
     "traceback": [
      "\u001b[0;31m---------------------------------------------------------------------------\u001b[0m",
      "\u001b[0;31mValueError\u001b[0m                                Traceback (most recent call last)",
      "\u001b[0;32m<ipython-input-124-5e898d85a46d>\u001b[0m in \u001b[0;36m<module>\u001b[0;34m\u001b[0m\n\u001b[1;32m      1\u001b[0m \u001b[0mdata\u001b[0m \u001b[0;34m=\u001b[0m \u001b[0;34m[\u001b[0m\u001b[0;34m]\u001b[0m\u001b[0;34m\u001b[0m\u001b[0;34m\u001b[0m\u001b[0m\n\u001b[1;32m      2\u001b[0m \u001b[0;34m\u001b[0m\u001b[0m\n\u001b[0;32m----> 3\u001b[0;31m \u001b[0;32mfor\u001b[0m \u001b[0mrow\u001b[0m \u001b[0;32min\u001b[0m \u001b[0mcsvreader\u001b[0m\u001b[0;34m:\u001b[0m\u001b[0;34m\u001b[0m\u001b[0;34m\u001b[0m\u001b[0m\n\u001b[0m\u001b[1;32m      4\u001b[0m         \u001b[0mdata\u001b[0m\u001b[0;34m.\u001b[0m\u001b[0mappend\u001b[0m\u001b[0;34m(\u001b[0m\u001b[0mrow\u001b[0m\u001b[0;34m)\u001b[0m\u001b[0;34m\u001b[0m\u001b[0;34m\u001b[0m\u001b[0m\n\u001b[1;32m      5\u001b[0m         \u001b[0;31m#total_months=total_months+1\u001b[0m\u001b[0;34m\u001b[0m\u001b[0;34m\u001b[0m\u001b[0;34m\u001b[0m\u001b[0m\n",
      "\u001b[0;31mValueError\u001b[0m: I/O operation on closed file."
     ]
    }
   ],
   "source": [
    "data = []\n",
    "\n",
    "for row in csvreader:\n",
    "        data.append(row)\n",
    "        #total_months=total_months+1\n",
    "        #net_total=net_total+1\n",
    "    \n",
    "    \n"
   ]
  },
  {
   "cell_type": "code",
   "execution_count": 71,
   "metadata": {},
   "outputs": [],
   "source": [
    "# calculate change from this month to previous month\n",
    "change=int(row[1])-previous_profit\n",
    "monthly_change.append(change)\n",
    "\n",
    "previous_profit=int(row[1])\n",
    "month_count.append(row[0])"
   ]
  },
  {
   "cell_type": "code",
   "execution_count": 73,
   "metadata": {},
   "outputs": [],
   "source": [
    "# Caluclating greatest increase\n",
    "\n",
    "if int(row[1])> greatest_increase:\n",
    "    greatest_increase=int(row[1])\n",
    "    greatest_increase_month=row([0])\n",
    "    \n",
    "# Calculating greatest decrease\n",
    "\n",
    "if int(row[1])< greatest_decrease:\n",
    "    greatest_decrease=int(row[1])\n",
    "    greatest_decrease_month=row([0])"
   ]
  },
  {
   "cell_type": "code",
   "execution_count": 77,
   "metadata": {},
   "outputs": [
    {
     "ename": "TypeError",
     "evalue": "'int' object is not iterable",
     "output_type": "error",
     "traceback": [
      "\u001b[0;31m---------------------------------------------------------------------------\u001b[0m",
      "\u001b[0;31mTypeError\u001b[0m                                 Traceback (most recent call last)",
      "\u001b[0;32m<ipython-input-77-8931ee679b9b>\u001b[0m in \u001b[0;36m<module>\u001b[0;34m\u001b[0m\n\u001b[1;32m      1\u001b[0m \u001b[0;31m# Calculating the average and date\u001b[0m\u001b[0;34m\u001b[0m\u001b[0;34m\u001b[0m\u001b[0;34m\u001b[0m\u001b[0m\n\u001b[1;32m      2\u001b[0m \u001b[0;34m\u001b[0m\u001b[0m\n\u001b[0;32m----> 3\u001b[0;31m \u001b[0maverage_change\u001b[0m\u001b[0;34m=\u001b[0m\u001b[0msum\u001b[0m\u001b[0;34m(\u001b[0m\u001b[0mchange\u001b[0m\u001b[0;34m)\u001b[0m\u001b[0;34m/\u001b[0m\u001b[0mlen\u001b[0m\u001b[0;34m(\u001b[0m\u001b[0mchange\u001b[0m\u001b[0;34m)\u001b[0m\u001b[0;34m\u001b[0m\u001b[0;34m\u001b[0m\u001b[0m\n\u001b[0m\u001b[1;32m      4\u001b[0m \u001b[0;34m\u001b[0m\u001b[0m\n\u001b[1;32m      5\u001b[0m \u001b[0mhigh\u001b[0m\u001b[0;34m=\u001b[0m\u001b[0mmax\u001b[0m\u001b[0;34m(\u001b[0m\u001b[0mchange\u001b[0m\u001b[0;34m)\u001b[0m\u001b[0;34m\u001b[0m\u001b[0;34m\u001b[0m\u001b[0m\n",
      "\u001b[0;31mTypeError\u001b[0m: 'int' object is not iterable"
     ]
    }
   ],
   "source": [
    "# Calculating the average and date\n",
    "\n",
    "average_change=sum(change)/len(change)\n",
    "\n",
    "high=max(change)\n",
    "low=min(change)\n",
    "\n",
    "\n"
   ]
  },
  {
   "cell_type": "code",
   "execution_count": 110,
   "metadata": {},
   "outputs": [
    {
     "name": "stdout",
     "output_type": "stream",
     "text": [
      "Financial Analysis\n",
      "-----------------------\n",
      "Total Months: 2\n",
      "Total Amount: $1735768\n"
     ]
    },
    {
     "ename": "NameError",
     "evalue": "name 'high' is not defined",
     "output_type": "error",
     "traceback": [
      "\u001b[0;31m---------------------------------------------------------------------------\u001b[0m",
      "\u001b[0;31mNameError\u001b[0m                                 Traceback (most recent call last)",
      "\u001b[0;32m<ipython-input-110-4e6917eabf2a>\u001b[0m in \u001b[0;36m<module>\u001b[0;34m\u001b[0m\n\u001b[1;32m      5\u001b[0m \u001b[0mprint\u001b[0m\u001b[0;34m(\u001b[0m\u001b[0;34mf\"Total Amount: ${net_total}\"\u001b[0m\u001b[0;34m)\u001b[0m\u001b[0;34m\u001b[0m\u001b[0;34m\u001b[0m\u001b[0m\n\u001b[1;32m      6\u001b[0m \u001b[0;31m# print(f\"Average Change: ${average_change}\")\u001b[0m\u001b[0;34m\u001b[0m\u001b[0;34m\u001b[0m\u001b[0;34m\u001b[0m\u001b[0m\n\u001b[0;32m----> 7\u001b[0;31m \u001b[0mprint\u001b[0m\u001b[0;34m(\u001b[0m\u001b[0;34mf\"Greatest Increase in Profits: {greatest_increase_month},${high}\"\u001b[0m\u001b[0;34m)\u001b[0m\u001b[0;34m\u001b[0m\u001b[0;34m\u001b[0m\u001b[0m\n\u001b[0m\u001b[1;32m      8\u001b[0m \u001b[0mprint\u001b[0m\u001b[0;34m(\u001b[0m\u001b[0;34mf\"Greatest Deacrese in Profits: {greatest_decrease_month},${low}\"\u001b[0m\u001b[0;34m)\u001b[0m\u001b[0;34m\u001b[0m\u001b[0;34m\u001b[0m\u001b[0m\n\u001b[1;32m      9\u001b[0m \u001b[0;34m\u001b[0m\u001b[0m\n",
      "\u001b[0;31mNameError\u001b[0m: name 'high' is not defined"
     ]
    }
   ],
   "source": [
    "# print all values\n",
    "print(\"Financial Analysis\")\n",
    "print(\"-----------------------\")\n",
    "print(f\"Total Months: {total_months}\")\n",
    "print(f\"Total Amount: ${net_total}\")\n",
    "# print(f\"Average Change: ${average_change}\")\n",
    "print(f\"Greatest Increase in Profits: {greatest_increase_month},${high}\")\n",
    "print(f\"Greatest Deacrese in Profits: {greatest_decrease_month},${low}\")\n",
    "\n",
    "\n",
    "\n",
    "#  (${highest})\")\n",
    "#  (${lowest})\")"
   ]
  },
  {
   "cell_type": "code",
   "execution_count": null,
   "metadata": {},
   "outputs": [],
   "source": []
  },
  {
   "cell_type": "code",
   "execution_count": null,
   "metadata": {},
   "outputs": [],
   "source": [
    " PyBank = open(\"output.txt\",\"w+\")"
   ]
  },
  {
   "cell_type": "code",
   "execution_count": null,
   "metadata": {},
   "outputs": [],
   "source": [
    " PyBank = open(\"output.txt\",\"w+\")\n",
    "    PyBank.write(\"Financial Analysis\") \n",
    "    PyBank.write('\\n' +\"Total Months\" + str(total_months)) \n",
    "    PyBank.write('\\n' +\"Total Amount\" + str(total_revenue)) \n",
    "    PyBank.write('\\n' +\"Average\" + str(average_change)) \n",
    "    PyBank.write('\\n' +greatest_inc_month) \n",
    "    PyBank.write('\\n' +str(high))\n",
    "    PyBank.write('\\n' +greatest_dec_month) \n",
    "    PyBank.write('\\n' +str(low)) "
   ]
  },
  {
   "cell_type": "code",
   "execution_count": null,
   "metadata": {},
   "outputs": [],
   "source": []
  },
  {
   "cell_type": "code",
   "execution_count": null,
   "metadata": {},
   "outputs": [],
   "source": [
    "with open(output_file, 'w',) as ________: csvfile or txtfile"
   ]
  },
  {
   "cell_type": "code",
   "execution_count": null,
   "metadata": {},
   "outputs": [],
   "source": [
    "   txtfile.write(f\"Financial Analysis\\n\")\n",
    "    txtfile.write(f\"---------------------------\\n\")\n",
    "    txtfile.write(f\"Total Months: {total_months}\\n\")\n",
    "    txtfile.write(f\"Total: ${net_amount}\\n\")\n",
    "    txtfile.write(f\"Average Change: ${average_change}\\n\")\n",
    "    txtfile.write(f\"Greatest Increase in Profits:, {greatest_increase_month}, (${highest})\\n\")\n",
    "    txtfile.write(f\"Greatest Decrease in Profits:, {greatest_decrease_month}, (${lowest})\\n\")"
   ]
  },
  {
   "cell_type": "code",
   "execution_count": null,
   "metadata": {},
   "outputs": [],
   "source": []
  },
  {
   "cell_type": "code",
   "execution_count": null,
   "metadata": {},
   "outputs": [],
   "source": [
    "output_file = os.path.join('.', 'PyBank', 'Resources', 'budget_data_revised.text')"
   ]
  },
  {
   "cell_type": "code",
   "execution_count": null,
   "metadata": {},
   "outputs": [],
   "source": []
  }
 ],
 "metadata": {
  "kernelspec": {
   "display_name": "Python 3",
   "language": "python",
   "name": "python3"
  },
  "language_info": {
   "codemirror_mode": {
    "name": "ipython",
    "version": 3
   },
   "file_extension": ".py",
   "mimetype": "text/x-python",
   "name": "python",
   "nbconvert_exporter": "python",
   "pygments_lexer": "ipython3",
   "version": "3.8.5"
  }
 },
 "nbformat": 4,
 "nbformat_minor": 4
}
