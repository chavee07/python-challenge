{
 "cells": [
  {
   "cell_type": "code",
   "execution_count": 3,
   "metadata": {},
   "outputs": [],
   "source": [
    "import os\n",
    "import csv\n",
    "\n",
    "csvfile=('Resources/budget_data.csv')\n",
    "budget_data=csvfile\n",
    "\n",
    "# Set up Variables\n",
    "\n",
    "total_months=0\n",
    "net_total=0\n",
    "\n",
    "month_count=[]\n",
    "monthly_change=[]\n",
    "\n",
    "\n",
    "greatest_increase_month=\"\"\n",
    "greatest_increase=0\n",
    "greatest_decrease_month=\"\"\n",
    "greatest_decrease=0\n",
    "\n",
    "with open(budget_data, newline = '') as csvfile:\n",
    "    csvreader = csv.reader(csvfile, delimiter = ',')\n",
    "    \n",
    "   \n",
    "    header = next(csvreader)\n",
    "    \n",
    "    first=next(csvreader)\n",
    "    total_months= total_months+1\n",
    "    net_total= net_total+int(first[1])\n",
    "    previous_profit=int(first[1])\n",
    "    \n",
    "    for row in csvreader:\n",
    "        \n",
    "        total_months= total_months+1\n",
    "        net_total= net_total+int(row[1])\n",
    "        \n",
    "        change=int(row[1])-previous_profit\n",
    "        monthly_change.append(change)\n",
    "        month_count.append(row[0])\n",
    "        \n",
    "        previous_profit=int(row[1])\n",
    "        \n",
    "        if change> greatest_increase:\n",
    "            greatest_increase=change\n",
    "            greatest_increase_month=row[0]\n",
    "\n",
    "        # Calculating greatest decrease\n",
    "\n",
    "        if change< greatest_decrease:\n",
    "            greatest_decrease=change\n",
    "            greatest_decrease_month=row[0]\n",
    "\n",
    "average_change=sum(monthly_change)/len(monthly_change)"
   ]
  },
  {
   "cell_type": "code",
   "execution_count": 4,
   "metadata": {
    "scrolled": true
   },
   "outputs": [
    {
     "name": "stdout",
     "output_type": "stream",
     "text": [
      "-2315.1176470588234\n"
     ]
    }
   ],
   "source": [
    "print(average_change)"
   ]
  },
  {
   "cell_type": "code",
   "execution_count": 41,
   "metadata": {},
   "outputs": [
    {
     "name": "stdout",
     "output_type": "stream",
     "text": [
      "Financial Analysis\n",
      "-----------------------\n",
      "Total Months: 86\n",
      "Total Amount: $38382578\n",
      "Average Change: $-2315.1176470588234\n",
      "Greatest Increase in Profits: Feb-2012,$1926159\n",
      "Greatest Deacrese in Profits: Sep-2013,$-2196167\n"
     ]
    }
   ],
   "source": [
    "# print all values\n",
    "print(\"Financial Analysis\")\n",
    "print(\"-----------------------\")\n",
    "print(f\"Total Months: {total_months}\")\n",
    "print(f\"Total Amount: ${net_total}\")\n",
    "print(f\"Average Change: ${average_change}\")\n",
    "print(f\"Greatest Increase in Profits: {greatest_increase_month},${greatest_increase}\")\n",
    "print(f\"Greatest Deacrese in Profits: {greatest_decrease_month},${greatest_decrease}\")\n",
    "\n",
    "\n",
    "\n",
    "#  (${highest})\")\n",
    "#  (${lowest})\")"
   ]
  },
  {
   "cell_type": "code",
   "execution_count": 46,
   "metadata": {},
   "outputs": [],
   "source": [
    "output_file = os.path.join('Resources', 'budget_data_revised.txt')\n",
    "with open(output_file, 'w') as txtfile: \n",
    "    txtfile.write(f\"Financial Analysis\\n\")\n",
    "    txtfile.write(f\"---------------------------\\n\")\n",
    "    txtfile.write(f\"Total Months: {total_months}\\n\")\n",
    "    txtfile.write(f\"Total: ${net_total}\\n\")\n",
    "    txtfile.write(f\"Average Change: ${average_change}\\n\")\n",
    "    txtfile.write(f\"Greatest Increase in Profits:, {greatest_increase_month}, (${greatest_increase})\\n\")\n",
    "    txtfile.write(f\"Greatest Decrease in Profits:, {greatest_decrease_month}, (${greatest_decrease})\\n\")"
   ]
  },
  {
   "cell_type": "code",
   "execution_count": null,
   "metadata": {},
   "outputs": [],
   "source": []
  },
  {
   "cell_type": "code",
   "execution_count": null,
   "metadata": {},
   "outputs": [],
   "source": []
  }
 ],
 "metadata": {
  "kernelspec": {
   "display_name": "Python 3",
   "language": "python",
   "name": "python3"
  },
  "language_info": {
   "codemirror_mode": {
    "name": "ipython",
    "version": 3
   },
   "file_extension": ".py",
   "mimetype": "text/x-python",
   "name": "python",
   "nbconvert_exporter": "python",
   "pygments_lexer": "ipython3",
   "version": "3.8.5"
  }
 },
 "nbformat": 4,
 "nbformat_minor": 4
}
