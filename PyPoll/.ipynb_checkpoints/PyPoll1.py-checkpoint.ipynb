{
 "cells": [
  {
   "cell_type": "code",
   "execution_count": 8,
   "metadata": {},
   "outputs": [
    {
     "ename": "TypeError",
     "evalue": "'delimeter' is an invalid keyword argument for this function",
     "output_type": "error",
     "traceback": [
      "\u001b[0;31m---------------------------------------------------------------------------\u001b[0m",
      "\u001b[0;31mTypeError\u001b[0m                                 Traceback (most recent call last)",
      "\u001b[0;32m<ipython-input-8-bff006223519>\u001b[0m in \u001b[0;36m<module>\u001b[0;34m\u001b[0m\n\u001b[1;32m     22\u001b[0m \u001b[0;34m\u001b[0m\u001b[0m\n\u001b[1;32m     23\u001b[0m \u001b[0;31m# csv reader specifies delimeter and variable that holds contents\u001b[0m\u001b[0;34m\u001b[0m\u001b[0;34m\u001b[0m\u001b[0;34m\u001b[0m\u001b[0m\n\u001b[0;32m---> 24\u001b[0;31m     \u001b[0mcsvreader\u001b[0m\u001b[0;34m=\u001b[0m\u001b[0mcsv\u001b[0m\u001b[0;34m.\u001b[0m\u001b[0mreader\u001b[0m\u001b[0;34m(\u001b[0m\u001b[0mcsvfile\u001b[0m\u001b[0;34m,\u001b[0m\u001b[0mdelimeter\u001b[0m\u001b[0;34m=\u001b[0m\u001b[0;34m','\u001b[0m\u001b[0;34m)\u001b[0m\u001b[0;34m\u001b[0m\u001b[0;34m\u001b[0m\u001b[0m\n\u001b[0m\u001b[1;32m     25\u001b[0m \u001b[0;34m\u001b[0m\u001b[0m\n\u001b[1;32m     26\u001b[0m     \u001b[0mnext\u001b[0m\u001b[0;34m(\u001b[0m\u001b[0mcsvreader\u001b[0m\u001b[0;34m,\u001b[0m \u001b[0;32mNone\u001b[0m\u001b[0;34m)\u001b[0m\u001b[0;34m\u001b[0m\u001b[0;34m\u001b[0m\u001b[0m\n",
      "\u001b[0;31mTypeError\u001b[0m: 'delimeter' is an invalid keyword argument for this function"
     ]
    }
   ],
   "source": [
    "# import Modules/Dependencies\n",
    "import os\n",
    "import csv\n",
    "\n",
    "\n",
    "# Set path for file\n",
    "csvfile=('Resources/election_data.csv')\n",
    "election_data=csvfile\n",
    "\n",
    "\n",
    "# Set up Variables\n",
    "total_votes=0\n",
    "khan_votes=0\n",
    "correy_votes=0\n",
    "li_votes=0\n",
    "otooley_votes=0\n",
    "\n",
    "\n",
    "\n",
    "# Open and Read csv file\n",
    "with open(election_data, newline='') as csvfile:\n",
    "    \n",
    "# csv reader specifies delimeter and variable that holds contents    \n",
    "    csvreader=csv.reader(csvfile,delimeter=',')\n",
    "    \n",
    "    next(csvreader, None)\n",
    "    row=next(csvreader)\n",
    "    \n",
    "        \n",
    "        \n",
    "    for row in csvreader:\n",
    "\n",
    "    # calculate total number of votes casted    \n",
    "        total_votes= total_votes+1\n",
    "\n",
    "    #  calculate total number of votes each candidate recieved/won\n",
    "    if row[2]==\"Khan\" :\n",
    "        khan_votes=khan_votes+1\n",
    "\n",
    "    elif row[2]==\"Correy\" :\n",
    "        Correy_votes=Correy_votes+1\n",
    "\n",
    "\n",
    "    elif row[2]==\"Li\" :\n",
    "        li_votes=li_votes+1\n",
    "\n",
    "    else :\n",
    "        row[2]==\"O'Tooley\"\n",
    "        otooley_votes=otooley_votes+1\n",
    "    \n",
    "    \n",
    "    \n",
    "    # caluculate percentage of votes each candidate won\n",
    "    khan_percent=khan_votes/total_votes\n",
    "\n",
    "    correy_percent=correy_votes/total_votes\n",
    "\n",
    "    li_percent=li_votes+1\n",
    "\n",
    "    otooley_percent=otooley_votes+1\n",
    "\n",
    "    # calculate winner based on popular vote\n",
    "\n",
    "    winner=max(khan_votes, correy_votes, li_votes, otooley_votes)\n",
    "\n",
    "    if winner== khan_votes:\n",
    "        winner_name=\"Khan\"\n",
    "    elif winner== correy_votes:\n",
    "        winner_name=\"Correy\"\n",
    "    elif winner==li_votes:\n",
    "        winner_name=\"Li\"\n",
    "    else:\n",
    "        winner_name=\"O'Tooley\"\n",
    "        \n",
    "        \n",
    "        # Print Analysis\n",
    "print(f\"Election Results\")\n",
    "print(f\"---------------------------\")\n",
    "print(f\"Total Votes: {total_votes}\")\n",
    "print(f\"---------------------------\")\n",
    "print(f\"Kahn: {kahn_percent:.3%}({khan_votes})\")\n",
    "print(f\"Correy: {correy_percent:.3%}({correy_votes})\")\n",
    "print(f\"Li: {li_percent:.3%}({li_votes})\")\n",
    "print(f\"O'Tooley: {otooley_percent:.3%}({otooley_votes})\")\n",
    "print(f\"---------------------------\")\n",
    "print(f\"Winner: {winner_name}\")\n",
    "print(f\"---------------------------\")\n",
    "\n",
    "# Specify File To Write To\n",
    "output_file = os.path.join('.', 'PyPoll', 'Resources', 'election_data_revised.text')\n",
    "\n",
    "# Open File Using \"Write\" Mode. Specify The Variable To Hold The Contents\n",
    "with open(output_file, 'w',) as txtfile:\n",
    "\n",
    "# Write New Data\n",
    "    txtfile.write(f\"Election Results\\n\")\n",
    "    txtfile.write(f\"---------------------------\\n\")\n",
    "    txtfile.write(f\"Total Votes: {total_votes}\\n\")\n",
    "    txtfile.write(f\"---------------------------\\n\")\n",
    "    txtfile.write(f\"Kahn: {kahn_percent:.3%}({khan_votes})\\n\")\n",
    "    txtfile.write(f\"Correy: {correy_percent:.3%}({correy_votes})\\n\")\n",
    "    txtfile.write(f\"Li: {li_percent:.3%}({li_votes})\\n\")\n",
    "    txtfile.write(f\"O'Tooley: {otooley_percent:.3%}({otooley_votes})\\n\")\n",
    "    txtfile.write(f\"---------------------------\\n\")\n",
    "    txtfile.write(f\"Winner: {winner_name}\\n\")\n",
    "    txtfile.write(f\"---------------------------\\n\")"
   ]
  },
  {
   "cell_type": "code",
   "execution_count": 33,
   "metadata": {},
   "outputs": [],
   "source": [
    "# Set path for file\n",
    "csvfile=('Resources/election_data.csv')\n",
    "election_data=csvfile"
   ]
  },
  {
   "cell_type": "code",
   "execution_count": 34,
   "metadata": {},
   "outputs": [],
   "source": [
    "# Set up Variables\n",
    "total_votes=0\n",
    "khan_votes=0\n",
    "correy_votes=0\n",
    "li_votes=0\n",
    "otooley_votes=0"
   ]
  },
  {
   "cell_type": "code",
   "execution_count": 35,
   "metadata": {},
   "outputs": [
    {
     "ename": "TypeError",
     "evalue": "'delimeter' is an invalid keyword argument for this function",
     "output_type": "error",
     "traceback": [
      "\u001b[0;31m---------------------------------------------------------------------------\u001b[0m",
      "\u001b[0;31mTypeError\u001b[0m                                 Traceback (most recent call last)",
      "\u001b[0;32m<ipython-input-35-17da28dc9ce3>\u001b[0m in \u001b[0;36m<module>\u001b[0;34m\u001b[0m\n\u001b[1;32m      3\u001b[0m \u001b[0;34m\u001b[0m\u001b[0m\n\u001b[1;32m      4\u001b[0m \u001b[0;31m# csv reader specifies delimeter and variable that holds contents\u001b[0m\u001b[0;34m\u001b[0m\u001b[0;34m\u001b[0m\u001b[0;34m\u001b[0m\u001b[0m\n\u001b[0;32m----> 5\u001b[0;31m     \u001b[0mcsvreader\u001b[0m\u001b[0;34m=\u001b[0m\u001b[0mcsv\u001b[0m\u001b[0;34m.\u001b[0m\u001b[0mreader\u001b[0m\u001b[0;34m(\u001b[0m\u001b[0mcsvfile\u001b[0m\u001b[0;34m,\u001b[0m\u001b[0mdelimeter\u001b[0m\u001b[0;34m=\u001b[0m\u001b[0;34m','\u001b[0m\u001b[0;34m)\u001b[0m\u001b[0;34m\u001b[0m\u001b[0;34m\u001b[0m\u001b[0m\n\u001b[0m\u001b[1;32m      6\u001b[0m \u001b[0;34m\u001b[0m\u001b[0m\n\u001b[1;32m      7\u001b[0m     \u001b[0mnext\u001b[0m\u001b[0;34m(\u001b[0m\u001b[0mcsvreader\u001b[0m\u001b[0;34m,\u001b[0m \u001b[0;32mNone\u001b[0m\u001b[0;34m)\u001b[0m\u001b[0;34m\u001b[0m\u001b[0;34m\u001b[0m\u001b[0m\n",
      "\u001b[0;31mTypeError\u001b[0m: 'delimeter' is an invalid keyword argument for this function"
     ]
    }
   ],
   "source": [
    "# Open and Read csv file\n",
    "with open(election_data, newline='') as csvfile:\n",
    "    \n",
    "# csv reader specifies delimeter and variable that holds contents    \n",
    "    csvreader=csv.reader(csvfile,delimeter=',')\n",
    "    \n",
    "    next(csvreader, None)\n",
    "    row=next(csvreader)\n",
    "    \n",
    "    for row in csvreader:\n",
    "        data.append(row)\n",
    "    \n",
    "    "
   ]
  },
  {
   "cell_type": "code",
   "execution_count": 36,
   "metadata": {},
   "outputs": [
    {
     "ename": "NameError",
     "evalue": "name 'csv_file' is not defined",
     "output_type": "error",
     "traceback": [
      "\u001b[0;31m---------------------------------------------------------------------------\u001b[0m",
      "\u001b[0;31mNameError\u001b[0m                                 Traceback (most recent call last)",
      "\u001b[0;32m<ipython-input-36-5bec158a7297>\u001b[0m in \u001b[0;36m<module>\u001b[0;34m\u001b[0m\n\u001b[1;32m      1\u001b[0m \u001b[0;31m#read Header Row first, skip if no header\u001b[0m\u001b[0;34m\u001b[0m\u001b[0;34m\u001b[0m\u001b[0;34m\u001b[0m\u001b[0m\n\u001b[1;32m      2\u001b[0m \u001b[0;34m\u001b[0m\u001b[0m\n\u001b[0;32m----> 3\u001b[0;31m \u001b[0mcsv_header\u001b[0m\u001b[0;34m=\u001b[0m\u001b[0mnext\u001b[0m\u001b[0;34m(\u001b[0m\u001b[0mcsv_file\u001b[0m\u001b[0;34m)\u001b[0m\u001b[0;34m\u001b[0m\u001b[0;34m\u001b[0m\u001b[0m\n\u001b[0m",
      "\u001b[0;31mNameError\u001b[0m: name 'csv_file' is not defined"
     ]
    }
   ],
   "source": [
    "#read Header Row first, skip if no header\n",
    "\n",
    "csv_header=next(csv_file)"
   ]
  },
  {
   "cell_type": "code",
   "execution_count": 6,
   "metadata": {},
   "outputs": [
    {
     "ename": "NameError",
     "evalue": "name 'csvreader' is not defined",
     "output_type": "error",
     "traceback": [
      "\u001b[0;31m---------------------------------------------------------------------------\u001b[0m",
      "\u001b[0;31mNameError\u001b[0m                                 Traceback (most recent call last)",
      "\u001b[0;32m<ipython-input-6-cdb13a9181e1>\u001b[0m in \u001b[0;36m<module>\u001b[0;34m\u001b[0m\n\u001b[1;32m      1\u001b[0m \u001b[0;31m# read each Row of Data after the header\u001b[0m\u001b[0;34m\u001b[0m\u001b[0;34m\u001b[0m\u001b[0;34m\u001b[0m\u001b[0m\n\u001b[1;32m      2\u001b[0m \u001b[0;34m\u001b[0m\u001b[0m\n\u001b[0;32m----> 3\u001b[0;31m \u001b[0;32mfor\u001b[0m \u001b[0mrow\u001b[0m \u001b[0;32min\u001b[0m \u001b[0mcsvreader\u001b[0m\u001b[0;34m:\u001b[0m\u001b[0;34m\u001b[0m\u001b[0;34m\u001b[0m\u001b[0m\n\u001b[0m\u001b[1;32m      4\u001b[0m \u001b[0;34m\u001b[0m\u001b[0m\n\u001b[1;32m      5\u001b[0m \u001b[0;31m# calculate total number of votes casted\u001b[0m\u001b[0;34m\u001b[0m\u001b[0;34m\u001b[0m\u001b[0;34m\u001b[0m\u001b[0m\n",
      "\u001b[0;31mNameError\u001b[0m: name 'csvreader' is not defined"
     ]
    }
   ],
   "source": [
    "# read each Row of Data after the header\n",
    "\n",
    "for row in csvreader:\n",
    "    \n",
    "# calculate total number of votes casted    \n",
    "    total_votes= total_votes+1\n",
    "    \n",
    "#  calculate total number of votes each candidate recieved/won\n",
    "if row[2]==\"Khan\" :\n",
    "    khan_votes=khan_votes+1\n",
    "    \n",
    "elif row[2]==\"Correy\" :\n",
    "    Correy_votes=Correy_votes+1\n",
    "\n",
    "\n",
    "elif row[2]==\"Li\" :\n",
    "    li_votes=li_votes+1\n",
    "    \n",
    "else :\n",
    "    row[2]==\"O'Tooley\"\n",
    "    otooley_votes=otooley_votes+1"
   ]
  },
  {
   "cell_type": "code",
   "execution_count": null,
   "metadata": {},
   "outputs": [],
   "source": [
    "# caluculate percentage of votes each candidate won\n",
    "khan_percent=khan_votes/total_votes\n",
    "\n",
    "correy_percent=correy_votes/total_votes\n",
    "\n",
    "li_percent=li_votes+1\n",
    "\n",
    "otooley_percent=otooley_votes+1\n",
    "\n",
    "# calculate winner based on popular vote\n",
    "\n",
    "winner=max(khan_votes, correy_votes, li_votes, otooley_votes)\n",
    "\n",
    "if winner== khan_votes:\n",
    "    winner_name=\"Khan\"\n",
    "elif winner== correy_votes:\n",
    "    winner_name=\"Correy\"\n",
    "elif winner==li_votes\n",
    "    winner_name=\"Li\"\n",
    "else\n",
    "    winner_name=\"O'Tooley\""
   ]
  },
  {
   "cell_type": "code",
   "execution_count": 9,
   "metadata": {},
   "outputs": [
    {
     "data": {
      "text/plain": [
       "'Election Results'"
      ]
     },
     "execution_count": 9,
     "metadata": {},
     "output_type": "execute_result"
    }
   ],
   "source": [
    "# print analysis \n",
    "print(f\"Election Results\")\n",
    "print(f\"----------------\")\n",
    "print(f\"Total Votes: {total_votes}\")\n",
    "print(f\"----------------\")\n",
    "\n",
    "\n",
    "      "
   ]
  },
  {
   "cell_type": "code",
   "execution_count": null,
   "metadata": {},
   "outputs": [],
   "source": [
    "\n",
    "# Print Analysis\n",
    "print(f\"Election Results\")\n",
    "print(f\"---------------------------\")\n",
    "print(f\"Total Votes: {total_votes}\")\n",
    "print(f\"---------------------------\")\n",
    "print(f\"Kahn: {kahn_percent:.3%}({khan_votes})\")\n",
    "print(f\"Correy: {correy_percent:.3%}({correy_votes})\")\n",
    "print(f\"Li: {li_percent:.3%}({li_votes})\")\n",
    "print(f\"O'Tooley: {otooley_percent:.3%}({otooley_votes})\")\n",
    "print(f\"---------------------------\")\n",
    "print(f\"Winner: {winner_name}\")\n",
    "print(f\"---------------------------\")\n",
    "\n",
    "# Specify File To Write To\n",
    "output_file = os.path.join('.', 'PyPoll', 'Resources', 'election_data_revised.text')\n",
    "\n",
    "# Open File Using \"Write\" Mode. Specify The Variable To Hold The Contents\n",
    "with open(output_file, 'w',) as txtfile:\n",
    "\n",
    "# Write New Data\n",
    "    txtfile.write(f\"Election Results\\n\")\n",
    "    txtfile.write(f\"---------------------------\\n\")\n",
    "    txtfile.write(f\"Total Votes: {total_votes}\\n\")\n",
    "    txtfile.write(f\"---------------------------\\n\")\n",
    "    txtfile.write(f\"Kahn: {kahn_percent:.3%}({khan_votes})\\n\")\n",
    "    txtfile.write(f\"Correy: {correy_percent:.3%}({correy_votes})\\n\")\n",
    "    txtfile.write(f\"Li: {li_percent:.3%}({li_votes})\\n\")\n",
    "    txtfile.write(f\"O'Tooley: {otooley_percent:.3%}({otooley_votes})\\n\")\n",
    "    txtfile.write(f\"---------------------------\\n\")\n",
    "    txtfile.write(f\"Winner: {winner_name}\\n\")\n",
    "    txtfile.write(f\"---------------------------\\n\")"
   ]
  }
 ],
 "metadata": {
  "kernelspec": {
   "display_name": "Python 3",
   "language": "python",
   "name": "python3"
  },
  "language_info": {
   "codemirror_mode": {
    "name": "ipython",
    "version": 3
   },
   "file_extension": ".py",
   "mimetype": "text/x-python",
   "name": "python",
   "nbconvert_exporter": "python",
   "pygments_lexer": "ipython3",
   "version": "3.8.5"
  }
 },
 "nbformat": 4,
 "nbformat_minor": 4
}
